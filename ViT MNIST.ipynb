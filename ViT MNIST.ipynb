{
 "cells": [
  {
   "cell_type": "markdown",
   "id": "3eda1fd1-a374-423b-82ea-f17dc3af906d",
   "metadata": {
    "jp-MarkdownHeadingCollapsed": true
   },
   "source": [
    "# Imports"
   ]
  },
  {
   "cell_type": "code",
   "execution_count": 1,
   "id": "aed9ea4d-ed8b-4522-9c0a-ec736c62798c",
   "metadata": {},
   "outputs": [
    {
     "name": "stderr",
     "output_type": "stream",
     "text": [
      "2024-03-18 19:03:23.392450: I tensorflow/core/platform/cpu_feature_guard.cc:182] This TensorFlow binary is optimized to use available CPU instructions in performance-critical operations.\n",
      "To enable the following instructions: AVX2 FMA, in other operations, rebuild TensorFlow with the appropriate compiler flags.\n"
     ]
    }
   ],
   "source": [
    "import numpy as np\n",
    "import matplotlib.pyplot as plt\n",
    "import tensorflow as tf\n",
    "import keras"
   ]
  },
  {
   "cell_type": "markdown",
   "id": "8b59a9fc-f854-4c4b-9ffc-cbfee9071e1a",
   "metadata": {
    "jp-MarkdownHeadingCollapsed": true
   },
   "source": [
    "# DS load and preparing"
   ]
  },
  {
   "cell_type": "code",
   "execution_count": 2,
   "id": "077d2671-28ab-4116-9d25-7541d68c1edd",
   "metadata": {},
   "outputs": [],
   "source": [
    "(X, y), (X_test, y_test) = keras.datasets.mnist.load_data() #using mnist ds"
   ]
  },
  {
   "cell_type": "code",
   "execution_count": 6,
   "id": "00bf4339-2f5b-4495-984e-be923cbb4331",
   "metadata": {},
   "outputs": [],
   "source": [
    "X_test_expanded = np.expand_dims(X_test, axis = 3)"
   ]
  },
  {
   "cell_type": "code",
   "execution_count": 35,
   "id": "65d2954a-bf3a-4e32-a08e-51f7acb452bf",
   "metadata": {},
   "outputs": [],
   "source": [
    "X_expanded = np.expand_dims(X, axis = 3)"
   ]
  },
  {
   "cell_type": "code",
   "execution_count": 7,
   "id": "46db95f2-ceb9-4e26-8116-d29e639dbde1",
   "metadata": {},
   "outputs": [
    {
     "data": {
      "text/plain": [
       "(10000, 28, 28, 1)"
      ]
     },
     "execution_count": 7,
     "metadata": {},
     "output_type": "execute_result"
    }
   ],
   "source": [
    "X_test_expanded.shape"
   ]
  },
  {
   "cell_type": "markdown",
   "id": "b49dbf87-9a49-4c22-a405-99de555703c5",
   "metadata": {},
   "source": [
    "Transforming the labels into a one-hot encoded representation, where each label is represented as a binary vector with a single high (1) entry for the corresponding class and the rest of the entries as low (0)."
   ]
  },
  {
   "cell_type": "code",
   "execution_count": 36,
   "id": "a1e669a1-8c44-47ed-9c34-7cd245bba9c5",
   "metadata": {},
   "outputs": [],
   "source": [
    "from keras.utils import to_categorical"
   ]
  },
  {
   "cell_type": "code",
   "execution_count": 37,
   "id": "be1b8b45-8dcd-4e59-8ffd-7440df9a3a9c",
   "metadata": {},
   "outputs": [],
   "source": [
    "y_one_hot = to_categorical(y, num_classes)"
   ]
  },
  {
   "cell_type": "code",
   "execution_count": 38,
   "id": "d2c3e3d5-ecfe-4234-b982-f228f3622a63",
   "metadata": {},
   "outputs": [],
   "source": [
    "y_test_one_hot = to_categorical(y_test, num_classes)"
   ]
  },
  {
   "cell_type": "markdown",
   "id": "9c596da2-f4c9-4de1-9d0a-47df07b16aea",
   "metadata": {},
   "source": [
    "# Model"
   ]
  },
  {
   "cell_type": "markdown",
   "id": "e1f482cc-8a31-44b9-94ac-ae653414f024",
   "metadata": {},
   "source": [
    "Patch embedding is an attempt to represent image information in a sequential processing model. It involves splitting the image into smaller patches and then converting each patch into a vector representation, which encapsulates pixel information and features. These vectors are subsequently used within the model for further processing."
   ]
  },
  {
   "cell_type": "code",
   "execution_count": 126,
   "id": "6f45df51-5130-44b3-89ce-1d7435f820ed",
   "metadata": {},
   "outputs": [],
   "source": [
    "class PatchEmbedding(tf.keras.layers.Layer):\n",
    "    def __init__(self, patch_size, emb_size):\n",
    "        super(PatchEmbedding, self).__init__()\n",
    "        self.patch_size = patch_size\n",
    "        self.emb_size = emb_size\n",
    "        self.embed = tf.keras.layers.Dense(units=self.emb_size)\n",
    "\n",
    "    def call(self, images):\n",
    "        # Assuming images have shape (batch_size, height, width, channels)\n",
    "        batch_size, height, width, channels = images.shape\n",
    "        # Patch size validation\n",
    "        assert height % self.patch_size == 0, f'Height {height} is not divisible by patch size {self.patch_size}'\n",
    "        assert width % self.patch_size == 0, f'Width {width} is not divisible by patch size {self.patch_size}'\n",
    "        \n",
    "        # Reshape the images into patches\n",
    "        patch_height, patch_width = height // self.patch_size, width // self.patch_size\n",
    "        patches = tf.image.extract_patches(\n",
    "            images,\n",
    "            sizes=[1, self.patch_size, self.patch_size, 1],\n",
    "            strides=[1, self.patch_size, self.patch_size, 1],\n",
    "            rates=[1, 1, 1, 1],\n",
    "            padding='VALID'\n",
    "        )\n",
    "        # Reshape the patches to have a flat dimension\n",
    "        patches = tf.reshape(patches, [-1, patch_height * patch_width, self.patch_size * self.patch_size * channels])\n",
    "        patches_embed = self.embed(patches)\n",
    "        return patches_embed\n",
    "\n",
    "    def get_config(self):\n",
    "        # to make save and load a model using custom layer possible\n",
    "        config = super().get_config()\n",
    "        config.update({\n",
    "            \"patch_size\": self.patch_size,\n",
    "            \"emb_size\": self.emb_size,\n",
    "        })\n",
    "        return config"
   ]
  },
  {
   "cell_type": "code",
   "execution_count": 5,
   "id": "151c1a3b-72ba-4c14-aedb-a70f8d02a947",
   "metadata": {},
   "outputs": [],
   "source": [
    "patch_layer = PatchEmbedding(patch_size=8, emb_size = 128)"
   ]
  },
  {
   "cell_type": "code",
   "execution_count": 8,
   "id": "01b6a2b3-2178-4d99-94d1-01936bfafe20",
   "metadata": {},
   "outputs": [],
   "source": [
    "sample = np.ones((100, 144, 144, 3))"
   ]
  },
  {
   "cell_type": "code",
   "execution_count": 83,
   "id": "5a5de32b-0658-4824-8925-a04f84eb3dde",
   "metadata": {},
   "outputs": [
    {
     "data": {
      "text/plain": [
       "TensorShape([100, 324, 128])"
      ]
     },
     "execution_count": 83,
     "metadata": {},
     "output_type": "execute_result"
    }
   ],
   "source": [
    "patch_layer(sample).shape"
   ]
  },
  {
   "cell_type": "code",
   "execution_count": 135,
   "id": "de81143b-68b1-4dda-83cf-50db4b47b4ab",
   "metadata": {},
   "outputs": [],
   "source": [
    "def vit(num_layers, num_heads, emb_dim, ff_dim, num_classes, patch_size, dropout=0.1, name=\"ViT\"):\n",
    "    # Inputs\n",
    "    input = tf.keras.layers.Input(shape=img_shape, dtype='float32', name=\"encoder_inputs\")\n",
    "\n",
    "    # Patching\n",
    "    patches = PatchEmbedding(patch_size, emb_dim)(input)\n",
    "    patch_height, patch_width = img_shape[0] // patch_size, img_shape[1] // patch_size\n",
    "    num_patches = patch_height * patch_width\n",
    "\n",
    "    #Positional Embeddings\n",
    "    #cls token takes over information from all patches in the process of processing by transformer layers\n",
    "    cls_token = tf.ones((tf.shape(patches)[0], 1, emb_dim))\n",
    "    patches = tf.concat([cls_token, patches], axis=1)\n",
    "    #positional vector. trainable for each patch\n",
    "    pos_vector = tf.Variable(initial_value=tf.random.normal(shape=(1, num_patches + 1, emb_dim)), trainable=True, dtype=tf.float32)\n",
    "    positional_embedding = tf.keras.layers.Add()([patches, pos_vector])\n",
    "\n",
    "    x = positional_embedding\n",
    "    for i in range(num_layers):\n",
    "        # Transformer Block\n",
    "        attn1 = tf.keras.layers.MultiHeadAttention(name=f\"vit{i}_attn1\", key_dim=emb_dim, num_heads=num_heads)\n",
    "        norm1 = tf.keras.layers.LayerNormalization(name=f\"vit{i}_norm1\")\n",
    "        ff1 = tf.keras.layers.Dense(ff_dim, activation=\"relu\", name=f\"vit{i}_ff1\")\n",
    "        ff2 = tf.keras.layers.Dense(emb_dim, name=f\"vit{i}_ff2\")\n",
    "        drop1 = tf.keras.layers.Dropout(dropout, name=f\"vit{i}_drop\")\n",
    "        norm2 = tf.keras.layers.LayerNormalization(name=f\"vit{i}_norm2\")\n",
    "        #default transformer encoder\n",
    "        attout1 = attn1(query=x, value=x, key=x)\n",
    "        x1 = norm1(x + attout1)\n",
    "        ffout1 = drop1(ff2(ff1(x1)))\n",
    "        x = norm2(x + ffout1)\n",
    "\n",
    "    final = tf.keras.layers.Dense(num_classes, name=\"linear\", activation = \"softmax\")\n",
    "    output = final(x[:, 0]) #takes only cls token, which holds all the information from the image\n",
    "    \n",
    "    try:\n",
    "        del output._keras_mask\n",
    "    except AttributeError:\n",
    "        pass\n",
    "    \n",
    "    model = tf.keras.Model(inputs=input, outputs=output, name=name)\n",
    "    return model"
   ]
  },
  {
   "cell_type": "markdown",
   "id": "9d6b5b3a-0aa8-498e-bd50-54a3c1203f56",
   "metadata": {},
   "source": [
    "# Parametrs and training"
   ]
  },
  {
   "cell_type": "code",
   "execution_count": 128,
   "id": "b9b0773c-0785-4da4-90d6-1a92ae2d02f0",
   "metadata": {},
   "outputs": [],
   "source": [
    "#All parameters are small due to the simplicity of the problem. obtained as a result of experiments\n",
    "img_shape = (28, 28, 1)\n",
    "num_layers = 2\n",
    "num_heads = 3\n",
    "emb_dim = 64\n",
    "ff_dim = 128\n",
    "dropout = 0.1\n",
    "num_classes = 10\n",
    "patch_size = 14\n",
    "model = vit(num_layers, num_heads, emb_dim, ff_dim, num_classes, patch_size, dropout)"
   ]
  },
  {
   "cell_type": "code",
   "execution_count": 136,
   "id": "41ee920d-3179-44de-9367-ce41777f8046",
   "metadata": {},
   "outputs": [],
   "source": [
    "#model.summary()"
   ]
  },
  {
   "cell_type": "code",
   "execution_count": 122,
   "id": "e3631caf-334d-4dd0-804f-3ea5d6df91da",
   "metadata": {},
   "outputs": [],
   "source": [
    "model.compile(loss = \"categorical_crossentropy\", optimizer = tf.keras.optimizers.Adam(learning_rate=0.0011), metrics = [\"accuracy\"])"
   ]
  },
  {
   "cell_type": "code",
   "execution_count": 123,
   "id": "42ca5596-e7a5-49e0-99bd-141ac642aeb6",
   "metadata": {},
   "outputs": [
    {
     "name": "stdout",
     "output_type": "stream",
     "text": [
      "Epoch 1/8\n",
      "469/469 [==============================] - 18s 27ms/step - loss: 0.3504 - accuracy: 0.8924\n",
      "Epoch 2/8\n",
      "469/469 [==============================] - 10s 22ms/step - loss: 0.1570 - accuracy: 0.9517\n",
      "Epoch 3/8\n",
      "469/469 [==============================] - 10s 22ms/step - loss: 0.1237 - accuracy: 0.9615\n",
      "Epoch 4/8\n",
      "469/469 [==============================] - 12s 25ms/step - loss: 0.1037 - accuracy: 0.9679\n",
      "Epoch 5/8\n",
      "469/469 [==============================] - 10s 22ms/step - loss: 0.1047 - accuracy: 0.9669\n",
      "Epoch 6/8\n",
      "469/469 [==============================] - 10s 22ms/step - loss: 0.0890 - accuracy: 0.9721\n",
      "Epoch 7/8\n",
      "469/469 [==============================] - 11s 23ms/step - loss: 0.0827 - accuracy: 0.9739\n",
      "Epoch 8/8\n",
      "469/469 [==============================] - 12s 26ms/step - loss: 0.0788 - accuracy: 0.9747\n"
     ]
    }
   ],
   "source": [
    "history = model.fit(X_expanded, y_one_hot, 128, 8)"
   ]
  },
  {
   "cell_type": "markdown",
   "id": "15111480-f62b-4e03-91d8-4ef13a777f87",
   "metadata": {},
   "source": [
    "### The MNIST dataset is definitely small for this type of NN, but it gives satisfactory results and shows the correctness of the model implementation."
   ]
  },
  {
   "cell_type": "code",
   "execution_count": 124,
   "id": "58e49b31-a316-4b9a-b38f-60286f29c5ca",
   "metadata": {},
   "outputs": [
    {
     "name": "stdout",
     "output_type": "stream",
     "text": [
      "313/313 [==============================] - 6s 17ms/step - loss: 0.0912 - accuracy: 0.9728\n"
     ]
    },
    {
     "data": {
      "text/plain": [
       "[0.09124517440795898, 0.9728000164031982]"
      ]
     },
     "execution_count": 124,
     "metadata": {},
     "output_type": "execute_result"
    }
   ],
   "source": [
    "model.evaluate(X_test_expanded, y_test_one_hot)"
   ]
  },
  {
   "cell_type": "code",
   "execution_count": 125,
   "id": "afe22642-34c9-4ba4-a28c-96566b35ee39",
   "metadata": {},
   "outputs": [
    {
     "data": {
      "image/png": "[encoded data removed]",
      "text/plain": [
       "<Figure size 1200x500 with 2 Axes>"
      ]
     },
     "metadata": {},
     "output_type": "display_data"
    }
   ],
   "source": [
    "import matplotlib.pyplot as plt\n",
    "\n",
    "# Extracting accuracy and loss values from the history object\n",
    "accuracy = history.history['accuracy']\n",
    "loss = history.history['loss']\n",
    "\n",
    "# Plotting\n",
    "epochs = range(1, len(accuracy) + 1)\n",
    "plt.figure(figsize=(12, 5))\n",
    "\n",
    "# Plotting accuracy\n",
    "plt.subplot(1, 2, 1)\n",
    "plt.plot(epochs, accuracy, label='Training accuracy')\n",
    "plt.title('Training accuracy')\n",
    "plt.xlabel('Epochs')\n",
    "plt.ylabel('Accuracy')\n",
    "plt.legend()\n",
    "\n",
    "# Plotting loss\n",
    "plt.subplot(1, 2, 2)\n",
    "plt.plot(epochs, loss, label='Training loss')\n",
    "plt.title('Training loss')\n",
    "plt.xlabel('Epochs')\n",
    "plt.ylabel('Loss')\n",
    "plt.legend()\n",
    "\n",
    "plt.tight_layout()\n",
    "plt.show()"
   ]
  },
  {
   "cell_type": "code",
   "execution_count": null,
   "id": "8cae8136-880f-4d3b-b254-4281b263894e",
   "metadata": {},
   "outputs": [],
   "source": []
  }
 ],
 "metadata": {
  "kernelspec": {
   "display_name": "Python 3 (ipykernel)",
   "language": "python",
   "name": "python3"
  },
  "language_info": {
   "codemirror_mode": {
    "name": "ipython",
    "version": 3
   },
   "file_extension": ".py",
   "mimetype": "text/x-python",
   "name": "python",
   "nbconvert_exporter": "python",
   "pygments_lexer": "ipython3",
   "version": "3.8.10"
  }
 },
 "nbformat": 4,
 "nbformat_minor": 5
}
